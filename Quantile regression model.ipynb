{
  "cells": [
    {
      "cell_type": "markdown",
      "metadata": {
        "id": "view-in-github",
        "colab_type": "text"
      },
      "source": [
        "<a href=\"https://colab.research.google.com/github/vpttra/vpttra/blob/main/Quantile%20regression%20model.ipynb\" target=\"_parent\"><img src=\"https://colab.research.google.com/assets/colab-badge.svg\" alt=\"Open In Colab\"/></a>"
      ]
    },
    {
      "cell_type": "markdown",
      "metadata": {
        "id": "NiW3OPbFKoyt"
      },
      "source": [
        "#Quantile regression in linear formulation\n",
        "\n",
        "\n",
        "***Under the scope of Data Science for Business 2022 course at Aalto University school of business***\n",
        "\n",
        "Provided with the data on distance between shop and buyer and the time spent to deliver the order of the buyer, the aims are to explore the data and to build quantile regression models to estimate the delivery predictions.\n",
        "\n",
        "\n",
        "\n"
      ]
    },
    {
      "cell_type": "code",
      "execution_count": 2,
      "metadata": {
        "id": "zRbUBqZyjm-l"
      },
      "outputs": [],
      "source": [
        "# import dependencies\n",
        "import pandas as pd\n",
        "import matplotlib.pyplot as plt\n",
        "import seaborn as sns\n",
        "import numpy as np\n",
        "from sklearn.linear_model import QuantileRegressor, LinearRegression\n",
        "from sklearn.metrics import mean_squared_error, mean_absolute_error\n",
        "from sklearn.model_selection import cross_validate\n"
      ]
    },
    {
      "cell_type": "code",
      "execution_count": 3,
      "metadata": {
        "id": "-owHLjHL1DkR"
      },
      "outputs": [],
      "source": [
        "# Load the given .csv dataset\n",
        "\n",
        "df = pd.read_csv('data.csv',sep = ';') \n"
      ]
    },
    {
      "cell_type": "code",
      "execution_count": 4,
      "metadata": {
        "colab": {
          "base_uri": "https://localhost:8080/",
          "height": 206
        },
        "id": "KUVyHfJf1dPp",
        "outputId": "b868e147-08ea-403a-a8d9-ef6a0e878df9"
      },
      "outputs": [
        {
          "output_type": "execute_result",
          "data": {
            "text/plain": [
              "   distance  time_to_buyer\n",
              "0  4.021082      20.681184\n",
              "1  4.570677      19.573632\n",
              "2  3.613144      20.264209\n",
              "3  2.943877      19.586117\n",
              "4  3.325419      19.952124"
            ],
            "text/html": [
              "\n",
              "  <div id=\"df-03705e5e-b8a8-4a50-9353-8dc7d9011f4c\">\n",
              "    <div class=\"colab-df-container\">\n",
              "      <div>\n",
              "<style scoped>\n",
              "    .dataframe tbody tr th:only-of-type {\n",
              "        vertical-align: middle;\n",
              "    }\n",
              "\n",
              "    .dataframe tbody tr th {\n",
              "        vertical-align: top;\n",
              "    }\n",
              "\n",
              "    .dataframe thead th {\n",
              "        text-align: right;\n",
              "    }\n",
              "</style>\n",
              "<table border=\"1\" class=\"dataframe\">\n",
              "  <thead>\n",
              "    <tr style=\"text-align: right;\">\n",
              "      <th></th>\n",
              "      <th>distance</th>\n",
              "      <th>time_to_buyer</th>\n",
              "    </tr>\n",
              "  </thead>\n",
              "  <tbody>\n",
              "    <tr>\n",
              "      <th>0</th>\n",
              "      <td>4.021082</td>\n",
              "      <td>20.681184</td>\n",
              "    </tr>\n",
              "    <tr>\n",
              "      <th>1</th>\n",
              "      <td>4.570677</td>\n",
              "      <td>19.573632</td>\n",
              "    </tr>\n",
              "    <tr>\n",
              "      <th>2</th>\n",
              "      <td>3.613144</td>\n",
              "      <td>20.264209</td>\n",
              "    </tr>\n",
              "    <tr>\n",
              "      <th>3</th>\n",
              "      <td>2.943877</td>\n",
              "      <td>19.586117</td>\n",
              "    </tr>\n",
              "    <tr>\n",
              "      <th>4</th>\n",
              "      <td>3.325419</td>\n",
              "      <td>19.952124</td>\n",
              "    </tr>\n",
              "  </tbody>\n",
              "</table>\n",
              "</div>\n",
              "      <button class=\"colab-df-convert\" onclick=\"convertToInteractive('df-03705e5e-b8a8-4a50-9353-8dc7d9011f4c')\"\n",
              "              title=\"Convert this dataframe to an interactive table.\"\n",
              "              style=\"display:none;\">\n",
              "        \n",
              "  <svg xmlns=\"http://www.w3.org/2000/svg\" height=\"24px\"viewBox=\"0 0 24 24\"\n",
              "       width=\"24px\">\n",
              "    <path d=\"M0 0h24v24H0V0z\" fill=\"none\"/>\n",
              "    <path d=\"M18.56 5.44l.94 2.06.94-2.06 2.06-.94-2.06-.94-.94-2.06-.94 2.06-2.06.94zm-11 1L8.5 8.5l.94-2.06 2.06-.94-2.06-.94L8.5 2.5l-.94 2.06-2.06.94zm10 10l.94 2.06.94-2.06 2.06-.94-2.06-.94-.94-2.06-.94 2.06-2.06.94z\"/><path d=\"M17.41 7.96l-1.37-1.37c-.4-.4-.92-.59-1.43-.59-.52 0-1.04.2-1.43.59L10.3 9.45l-7.72 7.72c-.78.78-.78 2.05 0 2.83L4 21.41c.39.39.9.59 1.41.59.51 0 1.02-.2 1.41-.59l7.78-7.78 2.81-2.81c.8-.78.8-2.07 0-2.86zM5.41 20L4 18.59l7.72-7.72 1.47 1.35L5.41 20z\"/>\n",
              "  </svg>\n",
              "      </button>\n",
              "      \n",
              "  <style>\n",
              "    .colab-df-container {\n",
              "      display:flex;\n",
              "      flex-wrap:wrap;\n",
              "      gap: 12px;\n",
              "    }\n",
              "\n",
              "    .colab-df-convert {\n",
              "      background-color: #E8F0FE;\n",
              "      border: none;\n",
              "      border-radius: 50%;\n",
              "      cursor: pointer;\n",
              "      display: none;\n",
              "      fill: #1967D2;\n",
              "      height: 32px;\n",
              "      padding: 0 0 0 0;\n",
              "      width: 32px;\n",
              "    }\n",
              "\n",
              "    .colab-df-convert:hover {\n",
              "      background-color: #E2EBFA;\n",
              "      box-shadow: 0px 1px 2px rgba(60, 64, 67, 0.3), 0px 1px 3px 1px rgba(60, 64, 67, 0.15);\n",
              "      fill: #174EA6;\n",
              "    }\n",
              "\n",
              "    [theme=dark] .colab-df-convert {\n",
              "      background-color: #3B4455;\n",
              "      fill: #D2E3FC;\n",
              "    }\n",
              "\n",
              "    [theme=dark] .colab-df-convert:hover {\n",
              "      background-color: #434B5C;\n",
              "      box-shadow: 0px 1px 3px 1px rgba(0, 0, 0, 0.15);\n",
              "      filter: drop-shadow(0px 1px 2px rgba(0, 0, 0, 0.3));\n",
              "      fill: #FFFFFF;\n",
              "    }\n",
              "  </style>\n",
              "\n",
              "      <script>\n",
              "        const buttonEl =\n",
              "          document.querySelector('#df-03705e5e-b8a8-4a50-9353-8dc7d9011f4c button.colab-df-convert');\n",
              "        buttonEl.style.display =\n",
              "          google.colab.kernel.accessAllowed ? 'block' : 'none';\n",
              "\n",
              "        async function convertToInteractive(key) {\n",
              "          const element = document.querySelector('#df-03705e5e-b8a8-4a50-9353-8dc7d9011f4c');\n",
              "          const dataTable =\n",
              "            await google.colab.kernel.invokeFunction('convertToInteractive',\n",
              "                                                     [key], {});\n",
              "          if (!dataTable) return;\n",
              "\n",
              "          const docLinkHtml = 'Like what you see? Visit the ' +\n",
              "            '<a target=\"_blank\" href=https://colab.research.google.com/notebooks/data_table.ipynb>data table notebook</a>'\n",
              "            + ' to learn more about interactive tables.';\n",
              "          element.innerHTML = '';\n",
              "          dataTable['output_type'] = 'display_data';\n",
              "          await google.colab.output.renderOutput(dataTable, element);\n",
              "          const docLink = document.createElement('div');\n",
              "          docLink.innerHTML = docLinkHtml;\n",
              "          element.appendChild(docLink);\n",
              "        }\n",
              "      </script>\n",
              "    </div>\n",
              "  </div>\n",
              "  "
            ]
          },
          "metadata": {},
          "execution_count": 4
        }
      ],
      "source": [
        "# Print the first 5 rows of the DataFrame \"df\"\n",
        "\n",
        "df.head()"
      ]
    },
    {
      "cell_type": "code",
      "execution_count": 5,
      "metadata": {
        "colab": {
          "base_uri": "https://localhost:8080/",
          "height": 279
        },
        "id": "S34bJg-s2bCc",
        "outputId": "89fe2e9a-b358-4081-f2da-4c27f4be1c17"
      },
      "outputs": [
        {
          "output_type": "display_data",
          "data": {
            "text/plain": [
              "<Figure size 432x288 with 1 Axes>"
            ],
            "image/png": "[encoded data removed]"
          },
          "metadata": {
            "needs_background": "light"
          }
        }
      ],
      "source": [
        "# Visualize data\n",
        "plt.clf()\n",
        "plt.rcParams.update({'font.size': 10, 'figure.dpi':150})\n",
        "sns.scatterplot(data=df, x=\"distance\", y=\"time_to_buyer\", marker='+')\n",
        "plt.grid(linestyle='-', linewidth=0.2)"
      ]
    },
    {
      "cell_type": "code",
      "execution_count": 6,
      "metadata": {
        "id": "OPEOblbe3PyT",
        "colab": {
          "base_uri": "https://localhost:8080/"
        },
        "outputId": "8bd2aa47-5a19-459c-c344-423d303ca767"
      },
      "outputs": [
        {
          "output_type": "stream",
          "name": "stdout",
          "text": [
            "True\n"
          ]
        }
      ],
      "source": [
        "# Create the feature matrix (numpy array X) from the column \"distance\" of \"df\" DataFrame, make sure X.shape==(len(X),1)\n",
        "# and create label vector (numpy array y) from \"time_to_buyer\" of \"df\" DataFrame, make sure y.shape==(len(y),1)\n",
        "\n",
        "X = df[['distance']]\n",
        "y = df[['time_to_buyer']]\n",
        "print(y.shape==(len(y),1))\n",
        "\n"
      ]
    },
    {
      "cell_type": "code",
      "execution_count": 7,
      "metadata": {
        "id": "y2RG36IvHOuo"
      },
      "outputs": [],
      "source": [
        "# Create a list named quantiles, that contains the values of quantiles to estimate: 0.1, 0.5, 0.9\n",
        "\n",
        "quantiles = [0.1, 0.5, 0.9]"
      ]
    },
    {
      "cell_type": "code",
      "execution_count": 8,
      "metadata": {
        "id": "XBRPnEgZHQme"
      },
      "outputs": [],
      "source": [
        "# Create an empty dictionary named predictions, where we will store our results \n",
        "\n",
        "predictions = {}"
      ]
    },
    {
      "cell_type": "code",
      "execution_count": 9,
      "metadata": {
        "colab": {
          "base_uri": "https://localhost:8080/"
        },
        "id": "GKssNPJHmIuK",
        "outputId": "fadcc3b7-fced-41de-e751-9996c27d6d6c"
      },
      "outputs": [
        {
          "output_type": "stream",
          "name": "stderr",
          "text": [
            "/usr/local/lib/python3.8/dist-packages/sklearn/utils/validation.py:993: DataConversionWarning: A column-vector y was passed when a 1d array was expected. Please change the shape of y to (n_samples, ), for example using ravel().\n",
            "  y = column_or_1d(y, warn=True)\n",
            "/usr/local/lib/python3.8/dist-packages/sklearn/utils/validation.py:993: DataConversionWarning: A column-vector y was passed when a 1d array was expected. Please change the shape of y to (n_samples, ), for example using ravel().\n",
            "  y = column_or_1d(y, warn=True)\n",
            "/usr/local/lib/python3.8/dist-packages/sklearn/utils/validation.py:993: DataConversionWarning: A column-vector y was passed when a 1d array was expected. Please change the shape of y to (n_samples, ), for example using ravel().\n",
            "  y = column_or_1d(y, warn=True)\n"
          ]
        }
      ],
      "source": [
        "# initialise a QuantileRegressor, set quantile and set argument alpha = 0\n",
        "# fit the model to the data \n",
        "# compute predicted labels for all data points and append result to the predictions dictionary\n",
        "\n",
        "for quantile in quantiles:\n",
        "  qr = QuantileRegressor(quantile=quantile, alpha = 0)\n",
        "  qr = QuantileRegressor.fit(qr,X,y)\n",
        "  y_pred_qr = qr.predict(X)\n",
        "  predictions[quantile] = y_pred_qr"
      ]
    },
    {
      "cell_type": "code",
      "execution_count": 10,
      "metadata": {
        "id": "QPZ_XCYstE__"
      },
      "outputs": [],
      "source": [
        "# initialise a LinearRegression\n",
        "# fit the model to the data \n",
        "# compute predicted labels for all data points\n",
        "\n",
        "lr = LinearRegression()\n",
        "lr.fit(X, y, sample_weight=None)\n",
        "y_pred_lr = lr.predict(X)"
      ]
    },
    {
      "cell_type": "code",
      "execution_count": 11,
      "metadata": {
        "id": "T0NA5bBMnZlh",
        "colab": {
          "base_uri": "https://localhost:8080/",
          "height": 580
        },
        "outputId": "bc552606-4eac-4ccb-ae3b-a4cd871f576b"
      },
      "outputs": [
        {
          "output_type": "execute_result",
          "data": {
            "text/plain": [
              "<matplotlib.legend.Legend at 0x7ff1ac0ff430>"
            ]
          },
          "metadata": {},
          "execution_count": 11
        },
        {
          "output_type": "display_data",
          "data": {
            "text/plain": [
              "<Figure size 900x600 with 1 Axes>"
            ],
            "image/png": "[encoded data removed]"
          },
          "metadata": {
            "needs_background": "light"
          }
        }
      ],
      "source": [
        "# Visualize data\n",
        "colordict = {\n",
        "  0.1 : \"orange\",\n",
        "  0.5 : \"green\",\n",
        "  0.9 : \"blue\"\n",
        "  }\n",
        "plt.clf()\n",
        "plt.rcParams.update({'font.size': 10, 'figure.dpi':300})\n",
        "for quantile, y_pred_qr in predictions.items():\n",
        "    plt.plot(X, y_pred_qr, label=f\"Quantile: {quantile}\", color = colordict.get(quantile))\n",
        "plt.plot(X, y_pred_lr, color=\"red\", linestyle=\"dotted\", label = \"OLS\")\n",
        "plt.scatter(X, y, marker = '.', color = \"black\", s=0.5)\n",
        "plt.xlabel(\"distance\")\n",
        "plt.ylabel(\"time_to_buyer\")\n",
        "plt.legend()"
      ]
    },
    {
      "cell_type": "markdown",
      "source": [
        "# **Interpreting the graph:**\n",
        "The blue line represent quantile 0.9, which means in 90% of cases the delivery time will be less than the corresponding value on the line for each distance.\n",
        "\n",
        "The green line is median line (quantile 0.5), and it splits the data points in half, the bigger half above the line, and the lower half under.\n",
        "\n",
        "The yellow line represent quantile 0.1, which means in 10% of cases the delivery time will be less than the corresponding value on the line for each distance.\n",
        "\n",
        "80% of all cases will have the delivery time between the yellow and blue line.\n",
        "\n",
        "For example, we can interprete the results about predicted time-to-buyer when distance is 5km as below:\n",
        "\n",
        "* 90% of the time-to-buyer will be lower than 21 minutes\n",
        "* 50 % of the time-to-buyer will be lower than 20.5 minutes\n",
        "* 10 % of the time-to-buyer will be lower than 19.8 minutes\n",
        "* 80% of the time-to-buyer will be between 19.8 minutes to 21 minutes."
      ],
      "metadata": {
        "id": "Z6OeE3S1zxEJ"
      }
    },
    {
      "cell_type": "markdown",
      "metadata": {
        "id": "P3B-bcGLNGi_"
      },
      "source": [
        "#**Building prediction model and check the result with cross validation**"
      ]
    },
    {
      "cell_type": "code",
      "execution_count": 12,
      "metadata": {
        "id": "CH1k8KFvHVyA"
      },
      "outputs": [],
      "source": [
        " # initialise a LinearRegression, use default value for all arguments\n",
        "# fit the model to the data # compute predicted labels for all data points\n",
        "\n",
        "linear_regression = LinearRegression()\n",
        "linear_regression.fit(X,y,sample_weight = None)\n",
        "y_pred_linear_regression = linear_regression.predict(X)"
      ]
    },
    {
      "cell_type": "code",
      "execution_count": 13,
      "metadata": {
        "id": "_ufYfJO_HY0D",
        "colab": {
          "base_uri": "https://localhost:8080/"
        },
        "outputId": "2c3b8630-000a-4265-dd06-492434ad546c"
      },
      "outputs": [
        {
          "output_type": "stream",
          "name": "stderr",
          "text": [
            "/usr/local/lib/python3.8/dist-packages/sklearn/utils/validation.py:993: DataConversionWarning: A column-vector y was passed when a 1d array was expected. Please change the shape of y to (n_samples, ), for example using ravel().\n",
            "  y = column_or_1d(y, warn=True)\n"
          ]
        }
      ],
      "source": [
        "# initialise a QuantileRegressor, choose quantile equivalent to median estimation, set argument alpha = 0\n",
        "# fit the model to the data \n",
        "# compute predicted labels for all data points\n",
        "\n",
        "quantile_regression = QuantileRegressor(quantile = 0.5, alpha = 0)\n",
        "quantile_regression.fit(X,y,sample_weight = None)\n",
        "y_pred_quantile_regression = quantile_regression.predict(X)\n"
      ]
    },
    {
      "cell_type": "code",
      "execution_count": 14,
      "metadata": {
        "id": "h-7Z2ho48AcB",
        "colab": {
          "base_uri": "https://localhost:8080/"
        },
        "outputId": "6edb3332-bb98-4f04-8126-7af0a1be1463"
      },
      "outputs": [
        {
          "output_type": "stream",
          "name": "stdout",
          "text": [
            "Training error (in-sample performance)\n",
            "  LinearRegression:\n",
            "  MAE = 0.266\n",
            "  MSE = 0.135\n",
            "  QuantileRegressor:\n",
            "  MAE = 0.263\n",
            "  MSE = 0.139\n",
            "  \n"
          ]
        }
      ],
      "source": [
        "# Print the results\n",
        "\n",
        "print(\n",
        "  f\"\"\"Training error (in-sample performance)\n",
        "  {linear_regression.__class__.__name__}:\n",
        "  MAE = {mean_absolute_error(y, y_pred_linear_regression):.3f}\n",
        "  MSE = {mean_squared_error(y, y_pred_linear_regression):.3f}\n",
        "  {quantile_regression.__class__.__name__}:\n",
        "  MAE = {mean_absolute_error(y, y_pred_quantile_regression):.3f}\n",
        "  MSE = {mean_squared_error(y, y_pred_quantile_regression):.3f}\n",
        "  \"\"\"\n",
        ")"
      ]
    },
    {
      "cell_type": "code",
      "execution_count": 15,
      "metadata": {
        "id": "2ME5R81fIjrJ"
      },
      "outputs": [],
      "source": [
        "# Create cross-validation instance for linear regression\n",
        "cv_results_lr = cross_validate(linear_regression\n",
        ",\n",
        "  X, \n",
        "  y,\n",
        "  cv=3,\n",
        "  scoring=[\"neg_mean_absolute_error\", \"neg_mean_squared_error\"],\n",
        ")"
      ]
    },
    {
      "cell_type": "code",
      "execution_count": 16,
      "metadata": {
        "id": "aGk25XtpGzsB",
        "colab": {
          "base_uri": "https://localhost:8080/"
        },
        "outputId": "76e5d27c-a4d9-43fd-d6c3-9381c7cd869d"
      },
      "outputs": [
        {
          "output_type": "stream",
          "name": "stderr",
          "text": [
            "/usr/local/lib/python3.8/dist-packages/sklearn/utils/validation.py:993: DataConversionWarning: A column-vector y was passed when a 1d array was expected. Please change the shape of y to (n_samples, ), for example using ravel().\n",
            "  y = column_or_1d(y, warn=True)\n",
            "/usr/local/lib/python3.8/dist-packages/sklearn/utils/validation.py:993: DataConversionWarning: A column-vector y was passed when a 1d array was expected. Please change the shape of y to (n_samples, ), for example using ravel().\n",
            "  y = column_or_1d(y, warn=True)\n",
            "/usr/local/lib/python3.8/dist-packages/sklearn/utils/validation.py:993: DataConversionWarning: A column-vector y was passed when a 1d array was expected. Please change the shape of y to (n_samples, ), for example using ravel().\n",
            "  y = column_or_1d(y, warn=True)\n"
          ]
        }
      ],
      "source": [
        "# Create cross-validation instance for quantile regression\n",
        "cv_results_qr = cross_validate(quantile_regression\n",
        "  , # specify the name of the QuantileRegressor, which was initialized in the beginning of task c), BEFORE THE COMMA\n",
        "  X,\n",
        "  y,\n",
        "  cv=3,\n",
        "  scoring=[\"neg_mean_absolute_error\", \"neg_mean_squared_error\"],\n",
        ")"
      ]
    },
    {
      "cell_type": "code",
      "execution_count": 17,
      "metadata": {
        "id": "HUESjH9EHm45",
        "colab": {
          "base_uri": "https://localhost:8080/"
        },
        "outputId": "4f7cfc46-46d5-40f3-ffd1-1d4324a27eee"
      },
      "outputs": [
        {
          "output_type": "stream",
          "name": "stdout",
          "text": [
            "Test error (cross-validated performance)\n",
            "    LinearRegression:\n",
            "    MAE = 0.266\n",
            "    MSE = 0.136\n",
            "    QuantileRegressor:\n",
            "    MAE = 0.263\n",
            "    MSE = 0.140\n",
            "    \n"
          ]
        }
      ],
      "source": [
        "# Print the results\n",
        "\n",
        "print(\n",
        "    f\"\"\"Test error (cross-validated performance)\n",
        "    {linear_regression.__class__.__name__}:\n",
        "    MAE = {-cv_results_lr[\"test_neg_mean_absolute_error\"].mean():.3f}\n",
        "    MSE = {-cv_results_lr[\"test_neg_mean_squared_error\"].mean():.3f}\n",
        "    {quantile_regression.__class__.__name__}:\n",
        "    MAE = {-cv_results_qr[\"test_neg_mean_absolute_error\"].mean():.3f}\n",
        "    MSE = {-cv_results_qr[\"test_neg_mean_squared_error\"].mean():.3f}\n",
        "    \"\"\"\n",
        ")"
      ]
    },
    {
      "cell_type": "markdown",
      "source": [
        "\n",
        "# **Checking emperical errors:**\n",
        "\n",
        "\n",
        "LinearRegression:\n",
        "* MAE = 0.266\n",
        "\n",
        "* MSE = 0.135\n",
        "\n",
        "QuantileRegressor:\n",
        "\n",
        "* MAE = 0.263\n",
        "\n",
        "* MSE = 0.139\n",
        "\n",
        "\n",
        "--> On the training set, we see that MAE is lower for QuantileRegressor than LinearRegression. MSE is lower for LinearRegression than QuantileRegressor.\n",
        "\n",
        " *These results confirms that MAE is the loss minimized by QuantileRegressor while MSE is the loss minimized LinearRegression.*\n",
        "\n",
        "\n",
        "Similarly, looking a the test error obtained by cross-validation, we also see that MAE is lower for QuantileRegressor than LinearRegression, and MSE is lower for LinearRegression than QuantileRegressor.\n",
        "\n",
        "LinearRegression:\n",
        "\n",
        "* MAE = 0.266\n",
        "* MSE = 0.136\n",
        "\n",
        "QuantileRegressor:\n",
        "* MAE = 0.263\n",
        "* MSE = 0.140\n",
        "    \n",
        "\n"
      ],
      "metadata": {
        "id": "DkpzoYw8n3p0"
      }
    }
  ],
  "metadata": {
    "colab": {
      "provenance": [],
      "include_colab_link": true
    },
    "kernelspec": {
      "display_name": "Python 3",
      "name": "python3"
    },
    "language_info": {
      "name": "python"
    }
  },
  "nbformat": 4,
  "nbformat_minor": 0
}